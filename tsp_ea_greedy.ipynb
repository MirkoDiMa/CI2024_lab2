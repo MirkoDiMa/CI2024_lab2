{
 "cells": [
  {
   "cell_type": "markdown",
   "metadata": {},
   "source": [
    "# Traveling Salesman Problem (TSP) - Genetic Algorithm and Greedy Approach\n",
    "\n",
    "This notebook provides an implementation of both the Genetic Algorithm and the Greedy Algorithm for solving the **Traveling Salesman Problem (TSP)** on multiple datasets. The goal of the TSP is to find the shortest possible route that visits each city exactly once and returns to the origin city.\n",
    "\n",
    "The Genetic Algorithm is a metaheuristic inspired by the process of natural selection, whereas the Greedy Algorithm is a heuristic that builds a solution step-by-step, choosing the nearest unvisited city at each step.\n",
    "\n",
    "### Contents\n",
    "1. [Import Libraries](#Import-Libraries)\n",
    "2. [Distance Matrix Creation](#Distance-Matrix-Creation)\n",
    "3. [Genetic Algorithm](#Genetic-Algorithm)\n",
    "4. [Greedy Algorithm](#Greedy-Algorithm)\n",
    "5. [Run Both Algorithms on All Datasets](#Run-Both-Algorithms-on-All-Datasets)\n"
   ]
  },
  {
   "cell_type": "code",
   "execution_count": 40,
   "metadata": {},
   "outputs": [],
   "source": [
    "## Import Libraries\n",
    "\n",
    "import logging\n",
    "from itertools import combinations\n",
    "import pandas as pd\n",
    "import numpy as np\n",
    "from geopy.distance import geodesic\n",
    "import random\n",
    "\n",
    "logging.basicConfig(level=logging.DEBUG)\n"
   ]
  },
  {
   "cell_type": "markdown",
   "metadata": {},
   "source": [
    "## Distance Matrix Creation\n"
   ]
  },
  {
   "cell_type": "code",
   "execution_count": 41,
   "metadata": {},
   "outputs": [],
   "source": [
    "def compute_DIST_MATRIX(file_path):\n",
    "    \"\"\"\n",
    "    Creates a distance matrix using geographic coordinates from a CSV file.\n",
    "    \n",
    "    Args:\n",
    "    - file_path (str): Path to the CSV file containing city names, latitudes, and longitudes.\n",
    "    \n",
    "    Returns:\n",
    "    - np.ndarray: Symmetric distance matrix where entry (i, j) represents the distance between city i and city j.\n",
    "    \"\"\"\n",
    "    CITIES = pd.read_csv(file_path, header=None, names=['name', 'lat', 'lon'])\n",
    "    DIST_MATRIX = np.zeros((len(CITIES), len(CITIES)))\n",
    "    for c1, c2 in combinations(CITIES.itertuples(), 2):\n",
    "        DIST_MATRIX[c1.Index, c2.Index] = DIST_MATRIX[c2.Index, c1.Index] = geodesic(\n",
    "            (c1.lat, c1.lon), (c2.lat, c2.lon)\n",
    "        ).km\n",
    "    return DIST_MATRIX\n"
   ]
  },
  {
   "cell_type": "markdown",
   "metadata": {},
   "source": [
    "## Genetic Algorithm Parameters and Population Creation\n"
   ]
  },
  {
   "cell_type": "code",
   "execution_count": 42,
   "metadata": {},
   "outputs": [],
   "source": [
    "# Parameters for the Genetic Algorithm\n",
    "POPULATION_SIZE = 100\n",
    "MAX_GENERATIONS = 1000\n",
    "OFFSPRING_SIZE = 30\n",
    "\n",
    "def create_individual(num_cities):\n",
    "    \"\"\"\n",
    "    Creates a random individual (tour) by shuffling city indices.\n",
    "    \"\"\"\n",
    "    return np.random.permutation(num_cities)\n",
    "\n",
    "def create_population(num_cities):\n",
    "    \"\"\"\n",
    "    Initializes a population of individuals (tours) of a specified size.\n",
    "    \"\"\"\n",
    "    return [create_individual(num_cities) for _ in range(POPULATION_SIZE)]\n"
   ]
  },
  {
   "cell_type": "markdown",
   "metadata": {},
   "source": [
    "## Fitness and Distance Calculation\n"
   ]
  },
  {
   "cell_type": "code",
   "execution_count": 43,
   "metadata": {},
   "outputs": [],
   "source": [
    "def calculate_distance_path(individual, DIST_MATRIX):\n",
    "    \"\"\"\n",
    "    Calculates the total distance of a tour represented by an individual.\n",
    "    \"\"\"\n",
    "    num_cities = len(individual)\n",
    "    return sum(DIST_MATRIX[individual[i], individual[i + 1]] for i in range(num_cities - 1)) + DIST_MATRIX[individual[num_cities - 1], individual[0]]\n",
    "\n",
    "def fitness(individual, DIST_MATRIX):\n",
    "    \"\"\"\n",
    "    Calculates the fitness of an individual as the inverse of the path length (distance).\n",
    "    \"\"\"\n",
    "    return 1 / calculate_distance_path(individual, DIST_MATRIX)\n"
   ]
  },
  {
   "cell_type": "markdown",
   "metadata": {},
   "source": [
    "## Crossover and Mutation Operations\n"
   ]
  },
  {
   "cell_type": "code",
   "execution_count": 44,
   "metadata": {},
   "outputs": [],
   "source": [
    "def pmx(parent1, parent2, num_cities):\n",
    "    \"\"\"\n",
    "    Performs Partially Mapped Crossover (PMX) to produce a child from two parents.\n",
    "    \"\"\"\n",
    "    start, end = sorted(random.sample(range(num_cities), 2))\n",
    "    child = [None] * num_cities\n",
    "    child[start:end] = parent1[start:end]\n",
    "    for i in range(start, end):\n",
    "        if parent2[i] not in child:\n",
    "            index = i\n",
    "            while start <= index < end:\n",
    "                index = np.where(parent2 == parent1[index])[0][0]\n",
    "            child[index] = parent2[i]\n",
    "    for i in range(num_cities):\n",
    "        if child[i] is None:\n",
    "            child[i] = parent2[i]\n",
    "    return child\n",
    "\n",
    "def mutate(individual):\n",
    "    \"\"\"\n",
    "    Swaps two random cities in an individual's tour, introducing variation.\n",
    "    \"\"\"\n",
    "    i, j = random.sample(range(len(individual)), 2)\n",
    "    individual[i], individual[j] = individual[j], individual[i]\n",
    "    return individual\n"
   ]
  },
  {
   "cell_type": "markdown",
   "metadata": {},
   "source": [
    "## Tournament Selection\n"
   ]
  },
  {
   "cell_type": "code",
   "execution_count": 45,
   "metadata": {},
   "outputs": [],
   "source": [
    "def tournament_selection(population, fitness_scores, k=3):\n",
    "    \"\"\"\n",
    "    Performs tournament selection to choose an individual for reproduction.\n",
    "    \"\"\"\n",
    "    k = min(k, len(population))\n",
    "    selected = random.sample(population, k)\n",
    "    selected_fitness = [fitness_scores[i] for i, ind in enumerate(population) if id(ind) in map(id, selected)]\n",
    "    best_individual = selected[selected_fitness.index(max(selected_fitness))]\n",
    "    return best_individual\n"
   ]
  },
  {
   "cell_type": "markdown",
   "metadata": {},
   "source": [
    "## Genetic Algorithm Execution\n"
   ]
  },
  {
   "cell_type": "code",
   "execution_count": 46,
   "metadata": {},
   "outputs": [],
   "source": [
    "def genetic_algorithm(file_path):\n",
    "    \"\"\"\n",
    "    Executes the Genetic Algorithm to find an optimal TSP solution.\n",
    "    Tracks the best solution found and its generation.\n",
    "    \"\"\"\n",
    "    DIST_MATRIX = compute_DIST_MATRIX(file_path)\n",
    "    num_cities = len(DIST_MATRIX)\n",
    "    population = create_population(num_cities)\n",
    "    fitness_scores = [fitness(ind, DIST_MATRIX) for ind in population]\n",
    "\n",
    "    best_individual = None\n",
    "    best_distance = float('inf')\n",
    "    best_generation = 0\n",
    "\n",
    "    for generation in range(MAX_GENERATIONS):\n",
    "        offspring = []\n",
    "        for _ in range(OFFSPRING_SIZE):\n",
    "            parent1 = tournament_selection(population, fitness_scores)\n",
    "            parent2 = tournament_selection(population, fitness_scores)\n",
    "            child = pmx(parent1, parent2, num_cities)\n",
    "            if random.random() < 0.2:\n",
    "                child = mutate(child)\n",
    "            offspring.append(child)\n",
    "        \n",
    "        population.extend(offspring)\n",
    "        fitness_scores = [fitness(ind, DIST_MATRIX) for ind in population]\n",
    "        \n",
    "        sorted_indices = np.argsort(fitness_scores)[::-1]\n",
    "        population = [population[i] for i in sorted_indices[:POPULATION_SIZE]]\n",
    "        fitness_scores = [fitness_scores[i] for i in sorted_indices[:POPULATION_SIZE]]\n",
    "        \n",
    "        best_fitness = max(fitness_scores)\n",
    "        best_individual_current = population[fitness_scores.index(best_fitness)]\n",
    "        best_distance_current = 1 / best_fitness\n",
    "\n",
    "        # Update the best solution if the current one is better\n",
    "        if best_distance_current < best_distance:\n",
    "            best_distance = best_distance_current\n",
    "            best_individual = best_individual_current\n",
    "            best_generation = generation\n",
    "\n",
    "    return best_individual, best_distance, best_generation\n"
   ]
  },
  {
   "cell_type": "markdown",
   "metadata": {},
   "source": [
    "## Greedy Algorithm Execution\n"
   ]
  },
  {
   "cell_type": "code",
   "execution_count": 47,
   "metadata": {},
   "outputs": [],
   "source": [
    "def greedy_algorithm(file_path):\n",
    "    \"\"\"\n",
    "    Executes the Greedy Algorithm to find a solution to the TSP.\n",
    "    Tracks the total cost and the number of steps.\n",
    "    \"\"\"\n",
    "    DIST_MATRIX = compute_DIST_MATRIX(file_path)\n",
    "    num_cities = len(DIST_MATRIX)\n",
    "\n",
    "    tour = [0]\n",
    "    visited = set(tour)\n",
    "    total_cost = 0\n",
    "    steps = 0\n",
    "\n",
    "    while len(tour) < num_cities:\n",
    "        last = tour[-1]\n",
    "        next_city = min(\n",
    "            (i for i in range(num_cities) if i not in visited),\n",
    "            key=lambda x: DIST_MATRIX[last, x]\n",
    "        )\n",
    "        total_cost += DIST_MATRIX[last, next_city]\n",
    "        tour.append(next_city)\n",
    "        visited.add(next_city)\n",
    "        steps += 1\n",
    "\n",
    "    total_cost += DIST_MATRIX[tour[-1], tour[0]]\n",
    "    tour.append(tour[0])\n",
    "    steps += 1  # Final step to return to the starting city\n",
    "\n",
    "    return tour, total_cost, steps\n"
   ]
  },
  {
   "cell_type": "markdown",
   "metadata": {},
   "source": [
    "## Run Both Algorithms on All Datasets\n"
   ]
  },
  {
   "cell_type": "code",
   "execution_count": 48,
   "metadata": {},
   "outputs": [
    {
     "name": "stdout",
     "output_type": "stream",
     "text": [
      "\n",
      "Dataset: cities/italy.csv\n",
      "Genetic Algorithm - Best Solution found at generation 891 with distance 5569.728743725634\n",
      "Greedy Algorithm - Total Cost: 4436.031769525161 found in 46 steps\n",
      "\n",
      "Dataset: cities/vanuatu.csv\n",
      "Genetic Algorithm - Best Solution found at generation 10 with distance 1345.5449564733112\n",
      "Greedy Algorithm - Total Cost: 1475.528091104531 found in 8 steps\n",
      "\n",
      "Dataset: cities/russia.csv\n",
      "Genetic Algorithm - Best Solution found at generation 998 with distance 116137.16419670233\n",
      "Greedy Algorithm - Total Cost: 42334.16465744784 found in 167 steps\n",
      "\n",
      "Dataset: cities/us.csv\n",
      "Genetic Algorithm - Best Solution found at generation 998 with distance 261010.57272560603\n",
      "Greedy Algorithm - Total Cost: 48050.025864461364 found in 326 steps\n",
      "\n",
      "Dataset: cities/china.csv\n",
      "Genetic Algorithm - Best Solution found at generation 999 with distance 572605.1390730924\n",
      "Greedy Algorithm - Total Cost: 63962.918429455196 found in 726 steps\n"
     ]
    }
   ],
   "source": [
    "datasets = [\"cities/italy.csv\", \"cities/vanuatu.csv\", \"cities/russia.csv\", \"cities/us.csv\", \"cities/china.csv\"]\n",
    "\n",
    "for dataset in datasets:\n",
    "    print(f\"\\nDataset: {dataset}\")\n",
    "    best_individual, best_distance, best_generation = genetic_algorithm(dataset)\n",
    "    print(f\"Genetic Algorithm - Best Solution found at generation {best_generation} with distance {best_distance}\")\n",
    "\n",
    "    _, greedy_cost, greedy_steps = greedy_algorithm(dataset)\n",
    "    print(f\"Greedy Algorithm - Total Cost: {greedy_cost} found in {greedy_steps} steps\")\n",
    "\n",
    "   \n"
   ]
  }
 ],
 "metadata": {
  "kernelspec": {
   "display_name": "ci-g9M0Db4Q-py3.11",
   "language": "python",
   "name": "python3"
  },
  "language_info": {
   "codemirror_mode": {
    "name": "ipython",
    "version": 3
   },
   "file_extension": ".py",
   "mimetype": "text/x-python",
   "name": "python",
   "nbconvert_exporter": "python",
   "pygments_lexer": "ipython3",
   "version": "3.11.7"
  }
 },
 "nbformat": 4,
 "nbformat_minor": 2
}
